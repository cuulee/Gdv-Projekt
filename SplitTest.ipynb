{
 "cells": [
  {
   "cell_type": "markdown",
   "metadata": {},
   "source": [
    "# Data crawling and processing TEST"
   ]
  },
  {
   "cell_type": "code",
   "execution_count": 78,
   "metadata": {
    "collapsed": true
   },
   "outputs": [],
   "source": [
    "import urllib.request\n",
    "import time\n",
    "import json\n",
    "import datetime\n",
    "nextBikeUrl = 'https://api.nextbike.net/maps/nextbike-live.json?city=14'"
   ]
  },
  {
   "cell_type": "code",
   "execution_count": 79,
   "metadata": {
    "collapsed": true
   },
   "outputs": [],
   "source": [
    "page = urllib.request.urlopen(nextBikeUrl)\n",
    "data = page.read()\n",
    "\n",
    "currentTime = str(datetime.datetime.utcnow())\n",
    "\n",
    "\"\"\"Process the crawled information.\"\"\"\n",
    "dataString = data.decode('utf8').replace(\"'\", '\"')\n",
    "dataJson = json.loads(dataString)"
   ]
  },
  {
   "cell_type": "code",
   "execution_count": 80,
   "metadata": {
    "collapsed": true
   },
   "outputs": [],
   "source": [
    "bikedata = dataJson[\"countries\"][0][\"cities\"][0][\"places\"]"
   ]
  },
  {
   "cell_type": "code",
   "execution_count": 81,
   "metadata": {},
   "outputs": [
    {
     "data": {
      "text/plain": [
       "{'address': None,\n",
       " 'bike': False,\n",
       " 'bike_list': [],\n",
       " 'bike_numbers': [],\n",
       " 'bike_racks': 0,\n",
       " 'bike_types': [],\n",
       " 'bikes': 0,\n",
       " 'free_racks': 0,\n",
       " 'lat': 50.9429485,\n",
       " 'lng': 6.958015,\n",
       " 'maintenance': False,\n",
       " 'name': 'Hauptbahnhof',\n",
       " 'number': 4826,\n",
       " 'place_type': '0',\n",
       " 'rack_locks': False,\n",
       " 'spot': True,\n",
       " 'terminal_type': 'free',\n",
       " 'uid': 35409}"
      ]
     },
     "execution_count": 81,
     "metadata": {},
     "output_type": "execute_result"
    }
   ],
   "source": [
    "bikedata[1]"
   ]
  },
  {
   "cell_type": "markdown",
   "metadata": {},
   "source": [
    "# Data Splitting"
   ]
  },
  {
   "cell_type": "code",
   "execution_count": 82,
   "metadata": {},
   "outputs": [
    {
     "name": "stdout",
     "output_type": "stream",
     "text": [
      "Räder 660\n",
      "Stationen 21\n"
     ]
    }
   ],
   "source": [
    "bikes = []\n",
    "stations = []\n",
    "for i in bikedata:\n",
    "    if i[\"bike\"] is True:\n",
    "        bikes.append(i)\n",
    "    else:\n",
    "        stations.append(i)\n",
    "\n",
    "print(\"Räder\", len(bikes))\n",
    "print(\"Stationen\", len(stations))"
   ]
  },
  {
   "cell_type": "code",
   "execution_count": 83,
   "metadata": {},
   "outputs": [
    {
     "name": "stdout",
     "output_type": "stream",
     "text": [
      "Bahnhof Mühlheim \n",
      "Hauptbahnhof\n",
      "KVB Hauptverwaltung\n",
      "Zülpicher Platz\n",
      "Neumarkt\n",
      "Uni Köln\n",
      "Maritim \n",
      "Ebertplatz\n",
      "Hans-Böckler-Platz\n",
      "Bahnhof Deutz\n",
      "Breslauer Platz\n",
      "Severinsstrasse\n",
      "Wienerplatz\n",
      "RTL Picassoplatz\n",
      "Uni Mensa\n",
      "Chlodwigplatz\n",
      "TH Köln Südstadt\n",
      "Leonardo Royal Hotel\n",
      "Hotel Stadtpalais\n",
      "Motel One Mediapark\n",
      "Motel One Waidmarkt\n"
     ]
    }
   ],
   "source": [
    "for i in stations:\n",
    "    print(i[\"name\"])"
   ]
  },
  {
   "cell_type": "code",
   "execution_count": 84,
   "metadata": {},
   "outputs": [
    {
     "data": {
      "text/plain": [
       "{'address': '',\n",
       " 'bike': True,\n",
       " 'bike_list': [{'active': True,\n",
       "   'bike_type': 15,\n",
       "   'boardcomputer': 6555,\n",
       "   'electric_lock': True,\n",
       "   'number': '21857',\n",
       "   'state': 'ok'}],\n",
       " 'bike_numbers': '21857',\n",
       " 'bike_racks': 0,\n",
       " 'bike_types': {'15': 1},\n",
       " 'bikes': 1,\n",
       " 'free_racks': 0,\n",
       " 'lat': 50.9483534,\n",
       " 'lng': 7.0041173,\n",
       " 'maintenance': False,\n",
       " 'name': 'BIKE 21857',\n",
       " 'number': 0,\n",
       " 'place_type': '12',\n",
       " 'rack_locks': False,\n",
       " 'spot': False,\n",
       " 'terminal_type': '',\n",
       " 'uid': 438529}"
      ]
     },
     "execution_count": 84,
     "metadata": {},
     "output_type": "execute_result"
    }
   ],
   "source": [
    "bikes[8]"
   ]
  },
  {
   "cell_type": "markdown",
   "metadata": {},
   "source": [
    "# Geo Json Format\n",
    "{\n",
    "  \"type\": \"Feature\",\n",
    "  \"geometry\": {\n",
    "    \"type\": \"Point\",\n",
    "    \"coordinates\": [125.6, 10.1]\n",
    "  },\n",
    "  \"properties\": {\n",
    "    \"name\": \"Dinagat Islands\"\n",
    "  }\n",
    "}"
   ]
  },
  {
   "cell_type": "code",
   "execution_count": 86,
   "metadata": {},
   "outputs": [],
   "source": [
    "def createGeoJsonBikes(bikes, stationid):\n",
    "    geoJson = {}\n",
    "    geoJson[\"geometry\"] = { \"type\": \"Point\", \"coordinates\": [bikes[\"lat\"], bikes[\"lng\"]]}\n",
    "    geoJson[\"type\"] = \"Feature\"\n",
    "    geoJson[\"properties\"] = {\"address\": bikes[\"address\"],\n",
    "                             \"name\": bikes[\"name\"],\n",
    "                             \"maintenance\": bikes[\"maintenance\"],\n",
    "                             \"state\": bikes[\"bike_list\"][0][\"state\"],\n",
    "                             \"bike_type\": bikes[\"bike_list\"][0][\"bike_type\"],\n",
    "                             \"boardcomputer\": bikes[\"bike_list\"][0][\"boardcomputer\"],\n",
    "                             \"uid\": bikes[\"uid\"],\n",
    "                             \"timestamp\": currentTime,\n",
    "                             \"stationid\": stationid,\n",
    "                             \"stationiduid\": stationid,\n",
    "                             \"number\": bikes[\"bike_list\"][0][\"number\"]}\n",
    "    return geoJson"
   ]
  },
  {
   "cell_type": "code",
   "execution_count": 87,
   "metadata": {},
   "outputs": [
    {
     "name": "stdout",
     "output_type": "stream",
     "text": [
      "{\n",
      "    \"geometry\": {\n",
      "        \"coordinates\": [\n",
      "            50.934139,\n",
      "            6.88621\n",
      "        ],\n",
      "        \"type\": \"Point\"\n",
      "    },\n",
      "    \"properties\": {\n",
      "        \"address\": \"Milit\\u00e4rringstra\\u00dfe / Junkersdorfer Str. \",\n",
      "        \"bike_type\": 0,\n",
      "        \"boardcomputer\": 6865,\n",
      "        \"maintenance\": false,\n",
      "        \"name\": \"BIKE 21084\",\n",
      "        \"number\": \"21084\",\n",
      "        \"state\": \"ok\",\n",
      "        \"stationid\": 0,\n",
      "        \"stationiduid\": 0,\n",
      "        \"timestamp\": \"2017-12-10 15:58:38.667109\",\n",
      "        \"uid\": 498138\n",
      "    },\n",
      "    \"type\": \"Feature\"\n",
      "}\n"
     ]
    }
   ],
   "source": [
    "print(json.dumps(createGeoJsonBikes(bikes[9],0), sort_keys=True, indent=4))"
   ]
  },
  {
   "cell_type": "code",
   "execution_count": 88,
   "metadata": {
    "collapsed": true
   },
   "outputs": [],
   "source": [
    "bikelist = []\n",
    "for i in bikes:\n",
    "        bikelist.append(createGeoJsonBikes(i, 0))"
   ]
  },
  {
   "cell_type": "code",
   "execution_count": 89,
   "metadata": {},
   "outputs": [
    {
     "data": {
      "text/plain": [
       "{'address': None,\n",
       " 'bike': False,\n",
       " 'bike_list': [{'active': True,\n",
       "   'bike_type': 0,\n",
       "   'boardcomputer': 5217,\n",
       "   'electric_lock': True,\n",
       "   'number': '21026',\n",
       "   'state': 'ok'},\n",
       "  {'active': True,\n",
       "   'bike_type': 15,\n",
       "   'boardcomputer': 7744,\n",
       "   'electric_lock': True,\n",
       "   'number': '21549',\n",
       "   'state': 'ok'},\n",
       "  {'active': True,\n",
       "   'bike_type': 15,\n",
       "   'boardcomputer': 8935,\n",
       "   'electric_lock': True,\n",
       "   'number': '21719',\n",
       "   'state': 'ok'},\n",
       "  {'active': True,\n",
       "   'bike_type': 15,\n",
       "   'boardcomputer': 6369,\n",
       "   'electric_lock': True,\n",
       "   'number': '21748',\n",
       "   'state': 'ok'},\n",
       "  {'active': True,\n",
       "   'bike_type': 0,\n",
       "   'boardcomputer': 5287,\n",
       "   'electric_lock': True,\n",
       "   'number': '22457',\n",
       "   'state': 'ok'}],\n",
       " 'bike_numbers': '21026,21549,21719,21748,22457',\n",
       " 'bike_racks': 0,\n",
       " 'bike_types': {'15': 5, 'undefined': 2},\n",
       " 'bikes': 5,\n",
       " 'free_racks': 0,\n",
       " 'lat': 50.930656880252,\n",
       " 'lng': 6.9406342506409,\n",
       " 'maintenance': False,\n",
       " 'name': 'Zülpicher Platz',\n",
       " 'number': 4824,\n",
       " 'place_type': '0',\n",
       " 'rack_locks': False,\n",
       " 'spot': True,\n",
       " 'terminal_type': 'free',\n",
       " 'uid': 746518}"
      ]
     },
     "execution_count": 89,
     "metadata": {},
     "output_type": "execute_result"
    }
   ],
   "source": [
    "stations[3]"
   ]
  },
  {
   "cell_type": "code",
   "execution_count": 112,
   "metadata": {},
   "outputs": [],
   "source": [
    "def createGeoJsonStations(stations):\n",
    "    places = []\n",
    "    bikes = []\n",
    "    for station in stations:\n",
    "        placegeojson = {}\n",
    "        placegeojson[\"geometry\"] = { \"type\": \"Point\", \"coordinates\": [station[\"lat\"], station[\"lng\"]]}\n",
    "        placegeojson[\"type\"] = \"Feature\"\n",
    "        placegeojson[\"properties\"] = {\"name\": station[\"name\"],\n",
    "                                 \"maintenance\": station[\"maintenance\"],\n",
    "                                 \"bike_racks\": station[\"bike_racks\"],\n",
    "                                 \"bike_types\": station[\"bike_types\"],\n",
    "                                 \"bikes\": station[\"bikes\"],\n",
    "                                 \"free_racks\": station[\"free_racks\"],\n",
    "                                 \"bike_numbers\": station[\"bike_numbers\"],\n",
    "                                 \"rack_locks\": station[\"rack_locks\"],\n",
    "                                 \"spot\": station[\"spot\"],\n",
    "                                 \"terminal_type\": station[\"terminal_type\"],\n",
    "                                 \"timestamp\": currentTime,\n",
    "                                 \"number\": station[\"number\"],\n",
    "                                 \"uid\": station[\"uid\"]}\n",
    "        \n",
    "        places.append(placegeojson)\n",
    "                \n",
    "                \n",
    "        for bike in station[\"bike_list\"]:\n",
    "            geoJson = {}\n",
    "            geoJson[\"geometry\"] = { \"type\": \"Point\", \"coordinates\": [station[\"lat\"], station[\"lng\"]]}\n",
    "            geoJson[\"type\"] = \"Feature\"\n",
    "            geoJson[\"properties\"] = {\"address\": station[\"name\"],\n",
    "                                     \"name\": station[\"name\"],\n",
    "                                     \"maintenance\": \"\",\n",
    "                                     \"state\": bike[\"state\"],\n",
    "                                     \"bike_type\": bike[\"bike_type\"],\n",
    "                                     \"boardcomputer\": bike[\"boardcomputer\"],\n",
    "                                     \"uid\": \"\",\n",
    "                                     \"timestamp\": currentTime,\n",
    "                                     \"stationid\": station[\"number\"],\n",
    "                                     \"stationiduid\": station[\"uid\"],\n",
    "                                     \"number\": bike[\"number\"]}\n",
    "\n",
    "            bikes.append(geoJson)\n",
    "    \n",
    "    return bikes, places"
   ]
  },
  {
   "cell_type": "code",
   "execution_count": 113,
   "metadata": {},
   "outputs": [],
   "source": [
    "Sbikes,places =  createGeoJsonStations(stations)"
   ]
  },
  {
   "cell_type": "code",
   "execution_count": 114,
   "metadata": {},
   "outputs": [
    {
     "data": {
      "text/plain": [
       "21"
      ]
     },
     "execution_count": 114,
     "metadata": {},
     "output_type": "execute_result"
    }
   ],
   "source": [
    "len(places)"
   ]
  },
  {
   "cell_type": "code",
   "execution_count": 103,
   "metadata": {},
   "outputs": [
    {
     "data": {
      "text/plain": [
       "[{'geometry': {'coordinates': [50.938831373138, 6.9062697887421],\n",
       "   'type': 'Point'},\n",
       "  'properties': {'address': 'KVB Hauptverwaltung',\n",
       "   'bike_type': 15,\n",
       "   'boardcomputer': 6145,\n",
       "   'maintenance': '',\n",
       "   'name': 'KVB Hauptverwaltung',\n",
       "   'number': '21269',\n",
       "   'state': 'ok',\n",
       "   'stationid': 4821,\n",
       "   'stationiduid': 430479,\n",
       "   'timestamp': '2017-12-10 15:58:38.667109',\n",
       "   'uid': ''},\n",
       "  'type': 'Feature'},\n",
       " {'geometry': {'coordinates': [50.938831373138, 6.9062697887421],\n",
       "   'type': 'Point'},\n",
       "  'properties': {'address': 'KVB Hauptverwaltung',\n",
       "   'bike_type': 15,\n",
       "   'boardcomputer': 8834,\n",
       "   'maintenance': '',\n",
       "   'name': 'KVB Hauptverwaltung',\n",
       "   'number': '21908',\n",
       "   'state': 'ok',\n",
       "   'stationid': 4821,\n",
       "   'stationiduid': 430479,\n",
       "   'timestamp': '2017-12-10 15:58:38.667109',\n",
       "   'uid': ''},\n",
       "  'type': 'Feature'},\n",
       " {'geometry': {'coordinates': [50.930656880252, 6.9406342506409],\n",
       "   'type': 'Point'},\n",
       "  'properties': {'address': 'Zülpicher Platz',\n",
       "   'bike_type': 0,\n",
       "   'boardcomputer': 5217,\n",
       "   'maintenance': '',\n",
       "   'name': 'Zülpicher Platz',\n",
       "   'number': '21026',\n",
       "   'state': 'ok',\n",
       "   'stationid': 4824,\n",
       "   'stationiduid': 746518,\n",
       "   'timestamp': '2017-12-10 15:58:38.667109',\n",
       "   'uid': ''},\n",
       "  'type': 'Feature'},\n",
       " {'geometry': {'coordinates': [50.930656880252, 6.9406342506409],\n",
       "   'type': 'Point'},\n",
       "  'properties': {'address': 'Zülpicher Platz',\n",
       "   'bike_type': 15,\n",
       "   'boardcomputer': 7744,\n",
       "   'maintenance': '',\n",
       "   'name': 'Zülpicher Platz',\n",
       "   'number': '21549',\n",
       "   'state': 'ok',\n",
       "   'stationid': 4824,\n",
       "   'stationiduid': 746518,\n",
       "   'timestamp': '2017-12-10 15:58:38.667109',\n",
       "   'uid': ''},\n",
       "  'type': 'Feature'},\n",
       " {'geometry': {'coordinates': [50.930656880252, 6.9406342506409],\n",
       "   'type': 'Point'},\n",
       "  'properties': {'address': 'Zülpicher Platz',\n",
       "   'bike_type': 15,\n",
       "   'boardcomputer': 8935,\n",
       "   'maintenance': '',\n",
       "   'name': 'Zülpicher Platz',\n",
       "   'number': '21719',\n",
       "   'state': 'ok',\n",
       "   'stationid': 4824,\n",
       "   'stationiduid': 746518,\n",
       "   'timestamp': '2017-12-10 15:58:38.667109',\n",
       "   'uid': ''},\n",
       "  'type': 'Feature'},\n",
       " {'geometry': {'coordinates': [50.930656880252, 6.9406342506409],\n",
       "   'type': 'Point'},\n",
       "  'properties': {'address': 'Zülpicher Platz',\n",
       "   'bike_type': 15,\n",
       "   'boardcomputer': 6369,\n",
       "   'maintenance': '',\n",
       "   'name': 'Zülpicher Platz',\n",
       "   'number': '21748',\n",
       "   'state': 'ok',\n",
       "   'stationid': 4824,\n",
       "   'stationiduid': 746518,\n",
       "   'timestamp': '2017-12-10 15:58:38.667109',\n",
       "   'uid': ''},\n",
       "  'type': 'Feature'},\n",
       " {'geometry': {'coordinates': [50.930656880252, 6.9406342506409],\n",
       "   'type': 'Point'},\n",
       "  'properties': {'address': 'Zülpicher Platz',\n",
       "   'bike_type': 0,\n",
       "   'boardcomputer': 5287,\n",
       "   'maintenance': '',\n",
       "   'name': 'Zülpicher Platz',\n",
       "   'number': '22457',\n",
       "   'state': 'ok',\n",
       "   'stationid': 4824,\n",
       "   'stationiduid': 746518,\n",
       "   'timestamp': '2017-12-10 15:58:38.667109',\n",
       "   'uid': ''},\n",
       "  'type': 'Feature'},\n",
       " {'geometry': {'coordinates': [50.943830695931, 6.95955991745],\n",
       "   'type': 'Point'},\n",
       "  'properties': {'address': 'Breslauer Platz',\n",
       "   'bike_type': 15,\n",
       "   'boardcomputer': 9509,\n",
       "   'maintenance': '',\n",
       "   'name': 'Breslauer Platz',\n",
       "   'number': '21464',\n",
       "   'state': 'ok',\n",
       "   'stationid': 4834,\n",
       "   'stationiduid': 1979551,\n",
       "   'timestamp': '2017-12-10 15:58:38.667109',\n",
       "   'uid': ''},\n",
       "  'type': 'Feature'},\n",
       " {'geometry': {'coordinates': [50.943830695931, 6.95955991745],\n",
       "   'type': 'Point'},\n",
       "  'properties': {'address': 'Breslauer Platz',\n",
       "   'bike_type': 0,\n",
       "   'boardcomputer': 9807,\n",
       "   'maintenance': '',\n",
       "   'name': 'Breslauer Platz',\n",
       "   'number': '21207',\n",
       "   'state': 'ok',\n",
       "   'stationid': 4834,\n",
       "   'stationiduid': 1979551,\n",
       "   'timestamp': '2017-12-10 15:58:38.667109',\n",
       "   'uid': ''},\n",
       "  'type': 'Feature'},\n",
       " {'geometry': {'coordinates': [50.943830695931, 6.95955991745],\n",
       "   'type': 'Point'},\n",
       "  'properties': {'address': 'Breslauer Platz',\n",
       "   'bike_type': 0,\n",
       "   'boardcomputer': 8068,\n",
       "   'maintenance': '',\n",
       "   'name': 'Breslauer Platz',\n",
       "   'number': '21156',\n",
       "   'state': 'ok',\n",
       "   'stationid': 4834,\n",
       "   'stationiduid': 1979551,\n",
       "   'timestamp': '2017-12-10 15:58:38.667109',\n",
       "   'uid': ''},\n",
       "  'type': 'Feature'},\n",
       " {'geometry': {'coordinates': [50.943830695931, 6.95955991745],\n",
       "   'type': 'Point'},\n",
       "  'properties': {'address': 'Breslauer Platz',\n",
       "   'bike_type': 15,\n",
       "   'boardcomputer': 5799,\n",
       "   'maintenance': '',\n",
       "   'name': 'Breslauer Platz',\n",
       "   'number': '21589',\n",
       "   'state': 'ok',\n",
       "   'stationid': 4834,\n",
       "   'stationiduid': 1979551,\n",
       "   'timestamp': '2017-12-10 15:58:38.667109',\n",
       "   'uid': ''},\n",
       "  'type': 'Feature'},\n",
       " {'geometry': {'coordinates': [50.943830695931, 6.95955991745],\n",
       "   'type': 'Point'},\n",
       "  'properties': {'address': 'Breslauer Platz',\n",
       "   'bike_type': 15,\n",
       "   'boardcomputer': 5913,\n",
       "   'maintenance': '',\n",
       "   'name': 'Breslauer Platz',\n",
       "   'number': '21521',\n",
       "   'state': 'ok',\n",
       "   'stationid': 4834,\n",
       "   'stationiduid': 1979551,\n",
       "   'timestamp': '2017-12-10 15:58:38.667109',\n",
       "   'uid': ''},\n",
       "  'type': 'Feature'}]"
      ]
     },
     "execution_count": 103,
     "metadata": {},
     "output_type": "execute_result"
    }
   ],
   "source": [
    "Sbikes"
   ]
  },
  {
   "cell_type": "code",
   "execution_count": 105,
   "metadata": {
    "collapsed": true
   },
   "outputs": [],
   "source": [
    "for i in Sbikes:\n",
    "    bikelist.append(i);"
   ]
  },
  {
   "cell_type": "code",
   "execution_count": 106,
   "metadata": {},
   "outputs": [
    {
     "data": {
      "text/plain": [
       "672"
      ]
     },
     "execution_count": 106,
     "metadata": {},
     "output_type": "execute_result"
    }
   ],
   "source": [
    "len(bikelist)"
   ]
  },
  {
   "cell_type": "code",
   "execution_count": 107,
   "metadata": {
    "collapsed": true
   },
   "outputs": [],
   "source": [
    "def createCollectionBikes(bikes):\n",
    "    collection = {\"type\": \"FeatureCollection\",\"features\": []}\n",
    "    for i in bikes:\n",
    "        collection[\"features\"].append(i)\n",
    "    return collection"
   ]
  },
  {
   "cell_type": "code",
   "execution_count": 115,
   "metadata": {},
   "outputs": [],
   "source": [
    "x = createCollectionBikes(bikelist)\n",
    "y = createCollectionBikes(places)"
   ]
  },
  {
   "cell_type": "code",
   "execution_count": 119,
   "metadata": {},
   "outputs": [],
   "source": [
    "with open('/Users/christopher/Uni/GDV/Projekt/Gdv-Projekt/data/'\n",
    "          + 'bikes.geojson', 'w',encoding='utf8') as outfile:\n",
    "    json.dump(x, outfile ,sort_keys=True, indent=4, ensure_ascii=False)"
   ]
  },
  {
   "cell_type": "code",
   "execution_count": 120,
   "metadata": {
    "collapsed": true
   },
   "outputs": [],
   "source": [
    "with open('/Users/christopher/Uni/GDV/Projekt/Gdv-Projekt/data/'\n",
    "          + 'stations.geojson', 'w',encoding='utf8') as outfile:\n",
    "    json.dump(y, outfile ,sort_keys=True, indent=4, ensure_ascii=False)"
   ]
  },
  {
   "cell_type": "code",
   "execution_count": null,
   "metadata": {
    "collapsed": true
   },
   "outputs": [],
   "source": []
  }
 ],
 "metadata": {
  "kernelspec": {
   "display_name": "Python 3",
   "language": "python",
   "name": "python3"
  },
  "language_info": {
   "codemirror_mode": {
    "name": "ipython",
    "version": 3
   },
   "file_extension": ".py",
   "mimetype": "text/x-python",
   "name": "python",
   "nbconvert_exporter": "python",
   "pygments_lexer": "ipython3",
   "version": "3.4.4"
  }
 },
 "nbformat": 4,
 "nbformat_minor": 2
}
