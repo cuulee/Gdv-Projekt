{
 "cells": [
  {
   "cell_type": "code",
   "execution_count": 12,
   "metadata": {
    "collapsed": true
   },
   "outputs": [],
   "source": [
    "import urllib.request\n",
    "import time\n",
    "import json\n",
    "nextBikeUrl = 'https://api.nextbike.net/maps/nextbike-live.json?city=14'"
   ]
  },
  {
   "cell_type": "code",
   "execution_count": 13,
   "metadata": {
    "collapsed": true
   },
   "outputs": [],
   "source": [
    "page = urllib.request.urlopen(nextBikeUrl)\n",
    "data = page.read()\n",
    "\n",
    "\"\"\"Process the crawled information.\"\"\"\n",
    "dataString = data.decode('utf8').replace(\"'\", '\"')\n",
    "dataJson = json.loads(dataString)"
   ]
  },
  {
   "cell_type": "code",
   "execution_count": 14,
   "metadata": {
    "collapsed": true
   },
   "outputs": [],
   "source": [
    "bikedata = dataJson[\"countries\"][0][\"cities\"][0][\"places\"]"
   ]
  },
  {
   "cell_type": "code",
   "execution_count": 15,
   "metadata": {},
   "outputs": [
    {
     "data": {
      "text/plain": [
       "{'address': None,\n",
       " 'bike': False,\n",
       " 'bike_list': [],\n",
       " 'bike_numbers': [],\n",
       " 'bike_racks': 0,\n",
       " 'bike_types': [],\n",
       " 'bikes': 0,\n",
       " 'free_racks': 0,\n",
       " 'lat': 50.9429485,\n",
       " 'lng': 6.958015,\n",
       " 'maintenance': False,\n",
       " 'name': 'Hauptbahnhof',\n",
       " 'number': 4826,\n",
       " 'place_type': '0',\n",
       " 'rack_locks': False,\n",
       " 'spot': True,\n",
       " 'terminal_type': 'free',\n",
       " 'uid': 35409}"
      ]
     },
     "execution_count": 15,
     "metadata": {},
     "output_type": "execute_result"
    }
   ],
   "source": [
    "bikedata[1]"
   ]
  },
  {
   "cell_type": "code",
   "execution_count": 16,
   "metadata": {},
   "outputs": [
    {
     "name": "stdout",
     "output_type": "stream",
     "text": [
      "Räder 643\n",
      "Stationen 21\n"
     ]
    }
   ],
   "source": [
    "bikes = []\n",
    "stations = []\n",
    "for i in bikedata:\n",
    "    if i[\"bike\"] is True:\n",
    "        bikes.append(i)\n",
    "    else:\n",
    "        stations.append(i)\n",
    "\n",
    "print(\"Räder\", len(bikes))\n",
    "print(\"Stationen\", len(stations))"
   ]
  },
  {
   "cell_type": "code",
   "execution_count": 17,
   "metadata": {},
   "outputs": [
    {
     "name": "stdout",
     "output_type": "stream",
     "text": [
      "Bahnhof Mühlheim \n",
      "Hauptbahnhof\n",
      "KVB Hauptverwaltung\n",
      "Zülpicher Platz\n",
      "Neumarkt\n",
      "Uni Köln\n",
      "Maritim \n",
      "Ebertplatz\n",
      "Hans-Böckler-Platz\n",
      "Bahnhof Deutz\n",
      "Breslauer Platz\n",
      "Severinsstrasse\n",
      "Wienerplatz\n",
      "RTL Picassoplatz\n",
      "Uni Mensa\n",
      "Chlodwigplatz\n",
      "TH Köln Südstadt\n",
      "Leonardo Royal Hotel\n",
      "Hotel Stadtpalais\n",
      "Motel One Mediapark\n",
      "Motel One Waidmarkt\n"
     ]
    }
   ],
   "source": [
    "for i in stations:\n",
    "    print(i[\"name\"])"
   ]
  },
  {
   "cell_type": "code",
   "execution_count": null,
   "metadata": {
    "collapsed": true
   },
   "outputs": [],
   "source": []
  }
 ],
 "metadata": {
  "kernelspec": {
   "display_name": "Python 3",
   "language": "python",
   "name": "python3"
  },
  "language_info": {
   "codemirror_mode": {
    "name": "ipython",
    "version": 3
   },
   "file_extension": ".py",
   "mimetype": "text/x-python",
   "name": "python",
   "nbconvert_exporter": "python",
   "pygments_lexer": "ipython3",
   "version": "3.4.4"
  }
 },
 "nbformat": 4,
 "nbformat_minor": 2
}
