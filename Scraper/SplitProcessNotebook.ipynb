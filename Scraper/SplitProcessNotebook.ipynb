{
 "cells": [
  {
   "cell_type": "markdown",
   "metadata": {},
   "source": [
    "# Data crawling and processing TEST"
   ]
  },
  {
   "cell_type": "code",
   "execution_count": 1,
   "metadata": {
    "collapsed": true
   },
   "outputs": [],
   "source": [
    "import urllib.request\n",
    "import time\n",
    "import json\n",
    "import datetime\n",
    "import pickle\n",
    "from weather import Weather\n",
    "from pathlib import Path\n",
    "nextBikeUrl = 'https://api.nextbike.net/maps/nextbike-live.json?city=14'"
   ]
  },
  {
   "cell_type": "markdown",
   "metadata": {},
   "source": [
    "# Get bike and weather data"
   ]
  },
  {
   "cell_type": "code",
   "execution_count": 2,
   "metadata": {},
   "outputs": [],
   "source": [
    "def getWeather():\n",
    "    weather = Weather()\n",
    "    lookup = weather.lookup(667931)\n",
    "    condition = lookup.condition()\n",
    "    weatherdata = {}\n",
    "    weatherdata[\"humidity\"] = lookup.atmosphere()[\"humidity\"]\n",
    "    weatherdata[\"text\"] = condition.text()\n",
    "    weatherdata[\"temp\"] = (float(condition.temp())-32)/1.8\n",
    "    weatherdata[\"wind\"] = lookup.wind()\n",
    "    \n",
    "    return weatherdata"
   ]
  },
  {
   "cell_type": "code",
   "execution_count": 5,
   "metadata": {},
   "outputs": [],
   "source": [
    "currentTime = str(datetime.datetime.utcnow())\n",
    "weather = getWeather()\n",
    "weather[\"time\"] = currentTime"
   ]
  },
  {
   "cell_type": "code",
   "execution_count": 6,
   "metadata": {
    "collapsed": true
   },
   "outputs": [],
   "source": [
    "# get json from url\n",
    "page = urllib.request.urlopen(nextBikeUrl)\n",
    "data = page.read()\n",
    "\n",
    "\"\"\"Process the crawled information.\"\"\"\n",
    "dataString = data.decode('utf8').replace(\"'\", '\"')\n",
    "dataJson = json.loads(dataString)"
   ]
  },
  {
   "cell_type": "code",
   "execution_count": 7,
   "metadata": {
    "collapsed": true
   },
   "outputs": [],
   "source": [
    "# get places\n",
    "bikedata = dataJson[\"countries\"][0][\"cities\"][0][\"places\"]"
   ]
  },
  {
   "cell_type": "markdown",
   "metadata": {},
   "source": [
    "# Data Splitting"
   ]
  },
  {
   "cell_type": "code",
   "execution_count": 8,
   "metadata": {},
   "outputs": [],
   "source": [
    "def splitData(bikedata):\n",
    "    bikes = []\n",
    "    stations = []\n",
    "    for i in bikedata:\n",
    "        if i[\"bike\"] is True:\n",
    "            bikes.append(i)\n",
    "        else:\n",
    "            stations.append(i)\n",
    "    return bikes, stations"
   ]
  },
  {
   "cell_type": "code",
   "execution_count": 9,
   "metadata": {},
   "outputs": [
    {
     "name": "stdout",
     "output_type": "stream",
     "text": [
      "Räder 617\n",
      "Stationen 21\n"
     ]
    }
   ],
   "source": [
    "bikes, stations = splitData(bikedata)\n",
    "\n",
    "print(\"Räder\", len(bikes))\n",
    "print(\"Stationen\", len(stations))"
   ]
  },
  {
   "cell_type": "markdown",
   "metadata": {},
   "source": [
    "# Geo Json Format\n",
    "{\n",
    "  \"type\": \"Feature\",\n",
    "  \"geometry\": {\n",
    "    \"type\": \"Point\",\n",
    "    \"coordinates\": [125.6, 10.1]\n",
    "  },\n",
    "  \"properties\": {\n",
    "    \"name\": \"Dinagat Islands\"\n",
    "  }\n",
    "}"
   ]
  },
  {
   "cell_type": "code",
   "execution_count": 10,
   "metadata": {
    "collapsed": true
   },
   "outputs": [],
   "source": [
    "def createGeoJsonBikes(bikes, stationid):\n",
    "    geoJson = {}\n",
    "    geoJson[\"geometry\"] = { \"type\": \"Point\", \"coordinates\": [bikes[\"lat\"], bikes[\"lng\"]]}\n",
    "    geoJson[\"type\"] = \"Feature\"\n",
    "    geoJson[\"properties\"] = {\"address\": bikes[\"address\"],\n",
    "                             \"name\": bikes[\"name\"],\n",
    "                             \"maintenance\": bikes[\"maintenance\"],\n",
    "                             \"state\": bikes[\"bike_list\"][0][\"state\"],\n",
    "                             \"bike_type\": bikes[\"bike_list\"][0][\"bike_type\"],\n",
    "                             \"boardcomputer\": bikes[\"bike_list\"][0][\"boardcomputer\"],\n",
    "                             \"uid\": bikes[\"uid\"],\n",
    "                             \"timestamp\": currentTime,\n",
    "                             \"stationid\": stationid,\n",
    "                             \"stationiduid\": stationid,\n",
    "                             \"number\": bikes[\"bike_list\"][0][\"number\"]}\n",
    "    return geoJson"
   ]
  },
  {
   "cell_type": "code",
   "execution_count": 11,
   "metadata": {
    "collapsed": true
   },
   "outputs": [],
   "source": [
    "def createGeoJsonStations(stations):\n",
    "    places = []\n",
    "    bikes = []\n",
    "    for station in stations:\n",
    "        placegeojson = {}\n",
    "        placegeojson[\"geometry\"] = { \"type\": \"Point\", \"coordinates\": [station[\"lat\"], station[\"lng\"]]}\n",
    "        placegeojson[\"type\"] = \"Feature\"\n",
    "        placegeojson[\"properties\"] = {\"name\": station[\"name\"],\n",
    "                                 \"maintenance\": station[\"maintenance\"],\n",
    "                                 \"bike_racks\": station[\"bike_racks\"],\n",
    "                                 \"bike_types\": station[\"bike_types\"],\n",
    "                                 \"bikes\": station[\"bikes\"],\n",
    "                                 \"free_racks\": station[\"free_racks\"],\n",
    "                                 \"bike_numbers\": station[\"bike_numbers\"],\n",
    "                                 \"rack_locks\": station[\"rack_locks\"],\n",
    "                                 \"spot\": station[\"spot\"],\n",
    "                                 \"terminal_type\": station[\"terminal_type\"],\n",
    "                                 \"timestamp\": currentTime,\n",
    "                                 \"number\": station[\"number\"],\n",
    "                                 \"uid\": station[\"uid\"]}\n",
    "        \n",
    "        places.append(placegeojson)\n",
    "                \n",
    "                \n",
    "        for bike in station[\"bike_list\"]:\n",
    "            geoJson = {}\n",
    "            geoJson[\"geometry\"] = { \"type\": \"Point\", \"coordinates\": [station[\"lat\"], station[\"lng\"]]}\n",
    "            geoJson[\"type\"] = \"Feature\"\n",
    "            geoJson[\"properties\"] = {\"address\": station[\"name\"],\n",
    "                                     \"name\": station[\"name\"],\n",
    "                                     \"maintenance\": \"\",\n",
    "                                     \"state\": bike[\"state\"],\n",
    "                                     \"bike_type\": bike[\"bike_type\"],\n",
    "                                     \"boardcomputer\": bike[\"boardcomputer\"],\n",
    "                                     \"uid\": \"\",\n",
    "                                     \"timestamp\": currentTime,\n",
    "                                     \"stationid\": station[\"number\"],\n",
    "                                     \"stationiduid\": station[\"uid\"],\n",
    "                                     \"number\": bike[\"number\"]}\n",
    "\n",
    "            bikes.append(geoJson)\n",
    "    \n",
    "    return bikes, places"
   ]
  },
  {
   "cell_type": "code",
   "execution_count": 12,
   "metadata": {
    "collapsed": true
   },
   "outputs": [],
   "source": [
    "def createFeatureCollection(bikes):\n",
    "    collection = {\"type\": \"FeatureCollection\",\"features\": []}\n",
    "    for i in bikes:\n",
    "        collection[\"features\"].append(i)\n",
    "    return collection"
   ]
  },
  {
   "cell_type": "code",
   "execution_count": 13,
   "metadata": {},
   "outputs": [],
   "source": [
    "# getlist of all bikes not in stations\n",
    "bikelist = []\n",
    "for i in bikes:\n",
    "        bikelist.append(createGeoJsonBikes(i, 0))"
   ]
  },
  {
   "cell_type": "code",
   "execution_count": 14,
   "metadata": {
    "collapsed": true
   },
   "outputs": [],
   "source": [
    "# get stations and bikes in staions\n",
    "Sbikes,places =  createGeoJsonStations(stations)"
   ]
  },
  {
   "cell_type": "code",
   "execution_count": 15,
   "metadata": {
    "collapsed": true
   },
   "outputs": [],
   "source": [
    "# add bikes from Stations to normal bikelist\n",
    "for bike in Sbikes:\n",
    "    bikelist.append(bike);"
   ]
  },
  {
   "cell_type": "code",
   "execution_count": 16,
   "metadata": {},
   "outputs": [],
   "source": [
    "bikeCollection = createFeatureCollection(bikelist)\n",
    "stationCollection = createFeatureCollection(places)\n",
    "weatherCollection = createFeatureCollection([weather])"
   ]
  },
  {
   "cell_type": "markdown",
   "metadata": {},
   "source": [
    "# Save data"
   ]
  },
  {
   "cell_type": "code",
   "execution_count": 18,
   "metadata": {},
   "outputs": [],
   "source": [
    "# check if pickle already exists\n",
    "def pickleCollections(collection, filename):\n",
    "    datapath = \"data/\" + filename + \".p\"\n",
    "    my_file = Path(datapath)\n",
    "    if my_file.exists():\n",
    "        collectionOld = pickle.load(open(datapath, \"rb\"))\n",
    "        \n",
    "        for dataset in collection[\"features\"]:\n",
    "            collectionOld[\"features\"].append(dataset)\n",
    "        collection = collectionOld\n",
    "    \n",
    "    pickle.dump(collection, open(datapath, \"wb\"))"
   ]
  },
  {
   "cell_type": "code",
   "execution_count": 19,
   "metadata": {},
   "outputs": [],
   "source": [
    "pickleCollections(stationCollection,\"stations\")\n",
    "pickleCollections(bikeCollection,\"bikes\")\n",
    "pickleCollections(weatherCollection,\"weather\")"
   ]
  },
  {
   "cell_type": "code",
   "execution_count": null,
   "metadata": {
    "collapsed": true
   },
   "outputs": [],
   "source": []
  }
 ],
 "metadata": {
  "kernelspec": {
   "display_name": "Python 3",
   "language": "python",
   "name": "python3"
  },
  "language_info": {
   "codemirror_mode": {
    "name": "ipython",
    "version": 3
   },
   "file_extension": ".py",
   "mimetype": "text/x-python",
   "name": "python",
   "nbconvert_exporter": "python",
   "pygments_lexer": "ipython3",
   "version": "3.4.4"
  }
 },
 "nbformat": 4,
 "nbformat_minor": 2
}
